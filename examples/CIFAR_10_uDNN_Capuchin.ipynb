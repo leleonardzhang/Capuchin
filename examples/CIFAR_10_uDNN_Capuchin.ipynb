{
  "cells": [
    {
      "cell_type": "markdown",
      "metadata": {
        "id": "7R0v5xg8DpmA"
      },
      "source": [
        "# CIFAR-10 uDNN Model Pre-training + Capuchin"
      ]
    },
    {
      "cell_type": "code",
      "execution_count": null,
      "metadata": {
        "id": "xYboMSXKDODI"
      },
      "outputs": [],
      "source": [
        "import tensorflow as tf\n",
        "from tensorflow.keras import Sequential, layers\n",
        "from tensorflow.keras.datasets import cifar10\n",
        "import matplotlib.pyplot as plt\n",
        "import random"
      ]
    },
    {
      "cell_type": "markdown",
      "metadata": {
        "id": "3-a9SlBrY5_Y"
      },
      "source": [
        "## Use Google Colab Pro GPU (Optional)"
      ]
    },
    {
      "cell_type": "code",
      "execution_count": null,
      "metadata": {
        "id": "D8hZRseyJpke"
      },
      "outputs": [],
      "source": [
        "device_name = tf.test.gpu_device_name()\n",
        "if device_name != '/device:GPU:0':\n",
        "  raise SystemError('GPU device not found')\n",
        "print('Found GPU at: {}'.format(device_name))"
      ]
    },
    {
      "cell_type": "markdown",
      "metadata": {
        "id": "F0yPaMLpEqKg"
      },
      "source": [
        "## Import CIFAR-10 Dataset"
      ]
    },
    {
      "cell_type": "code",
      "execution_count": null,
      "metadata": {
        "id": "7HT5LbdREwKs"
      },
      "outputs": [],
      "source": [
        "labels = ['airplane', 'automobile', 'bird', 'cat', 'deer', 'dog', 'frog', 'horse', 'ship', 'truck']\n",
        "(trainX, trainY), (testX, testY) = cifar10.load_data()"
      ]
    },
    {
      "cell_type": "markdown",
      "metadata": {
        "id": "MsUHAsFmGDEn"
      },
      "source": [
        "## Pre-processing Dataset"
      ]
    },
    {
      "cell_type": "code",
      "execution_count": null,
      "metadata": {
        "id": "ctwnXLZWGG-E"
      },
      "outputs": [],
      "source": [
        "trainX = trainX / 255.0\n",
        "testX = testX / 255.0"
      ]
    },
    {
      "cell_type": "markdown",
      "metadata": {
        "id": "DvI9ZUHZFvYn"
      },
      "source": [
        "## Show an example in dataset (Optional)"
      ]
    },
    {
      "cell_type": "code",
      "execution_count": null,
      "metadata": {
        "id": "9SM5-bMlF1lu"
      },
      "outputs": [],
      "source": [
        "i = random.randint(0, trainX.shape[0])\n",
        "plt.imshow(trainX[i])\n",
        "print(labels[trainY[i][0]])"
      ]
    },
    {
      "cell_type": "markdown",
      "metadata": {
        "id": "LhnIkXysHNwt"
      },
      "source": [
        "## Define uDNN Model"
      ]
    },
    {
      "cell_type": "code",
      "execution_count": null,
      "metadata": {
        "id": "r7n0AmloG_y6"
      },
      "outputs": [],
      "source": [
        "model = Sequential([\n",
        "  layers.Conv2D(filters=16, kernel_size=3, padding=\"same\", activation=\"relu\", input_shape=[32,32,3]),\n",
        "  layers.Conv2D(filters=16, kernel_size=3, padding=\"same\", activation=\"relu\"),\n",
        "  layers.MaxPool2D(pool_size=2, strides=2),\n",
        "  layers.Conv2D(filters=32, kernel_size=3, padding=\"same\", activation=\"relu\"),\n",
        "  layers.Conv2D(filters=32, kernel_size=3, padding=\"same\", activation=\"relu\"),\n",
        "  layers.MaxPool2D(pool_size=2, strides=2),\n",
        "  layers.Flatten(),\n",
        "  layers.Dropout(0.5),\n",
        "  layers.Dense(16),\n",
        "  layers.Dense(10, activation='softmax')\n",
        "])\n",
        "model.summary()"
      ]
    },
    {
      "cell_type": "markdown",
      "metadata": {
        "id": "lZ3HmpB1IlpT"
      },
      "source": [
        "## Compile and Train Model"
      ]
    },
    {
      "cell_type": "code",
      "execution_count": null,
      "metadata": {
        "id": "SUnap6yLIj3P"
      },
      "outputs": [],
      "source": [
        "model.compile(loss='sparse_categorical_crossentropy', optimizer='Adam', metrics=['sparse_categorical_accuracy'])"
      ]
    },
    {
      "cell_type": "code",
      "execution_count": null,
      "metadata": {
        "colab": {
          "background_save": true
        },
        "id": "5MKhCQqGIsZF"
      },
      "outputs": [],
      "source": [
        "model.fit(trainX, trainY, epochs=25, batch_size=128, validation_split=0.2)"
      ]
    },
    {
      "cell_type": "code",
      "execution_count": null,
      "metadata": {
        "id": "hY4PhZZTKAv1"
      },
      "outputs": [],
      "source": [
        "model.evaluate(testX, testY)"
      ]
    },
    {
      "cell_type": "markdown",
      "metadata": {
        "id": "jc2CWvA5Xhct"
      },
      "source": [
        "## Prepare to Export Model"
      ]
    },
    {
      "cell_type": "code",
      "execution_count": null,
      "metadata": {
        "id": "hg7P5TkKXghT"
      },
      "outputs": [],
      "source": [
        "! git clone https://github.com/leleonardzhang/Capuchin.git\n",
        "! pip install fxpmath\n",
        "import sys\n",
        "from fxpmath import Fxp\n",
        "sys.path.insert(0, '/content/Capuchin')\n",
        "import encoder"
      ]
    },
    {
      "cell_type": "markdown",
      "metadata": {
        "id": "WfwzFZMPYiA_"
      },
      "source": [
        "## Export Model to Header File"
      ]
    },
    {
      "cell_type": "code",
      "execution_count": null,
      "metadata": {
        "id": "MTopTRqHYlRP"
      },
      "outputs": [],
      "source": [
        "encoder.export_model(model)"
      ]
    },
    {
      "cell_type": "markdown",
      "metadata": {
        "id": "tZ-JH2EnYrgF"
      },
      "source": [
        "## Get Sample Input and Output (Optional)"
      ]
    },
    {
      "cell_type": "code",
      "execution_count": null,
      "metadata": {
        "id": "_j2E85exYqVD"
      },
      "outputs": [],
      "source": [
        "test_n = 1                    # the nth data in test dataset\n",
        "print(\"Fixed Point Input\")\n",
        "print(Fxp(testX[test_n].transpose(2,0,1), signed = True, n_word = 16, n_frac = 10).val.flatten().tolist())\n",
        "print(\"Output Label\")\n",
        "print(testY[test_n])"
      ]
    },
    {
      "cell_type": "code",
      "execution_count": null,
      "metadata": {
        "id": "nPATjEccZZ3G"
      },
      "outputs": [],
      "source": [
        "plt.imshow(testX[test_n])\n",
        "print(labels[testY[test_n][0]])"
      ]
    },
    {
      "cell_type": "markdown",
      "metadata": {
        "id": "4rFkld72aYgh"
      },
      "source": [
        "## Next Step"
      ]
    },
    {
      "cell_type": "markdown",
      "metadata": {
        "id": "caG_TeRoaebW"
      },
      "source": [
        "1.   Download header file `neural_network_parameters.h` and copy the header file into the root directory of MSP implementation `capuchin-MCU/`.\n",
        "2.   Modify the pointer `input_buffer` in `neural_network_parameters.h` and point to desired data input.\n",
        "3.   Compile and run the program on MSP.\n"
      ]
    },
    {
      "cell_type": "code",
      "execution_count": null,
      "metadata": {
        "id": "2DnvfF40Mn-e"
      },
      "outputs": [],
      "source": [
        ""
      ]
    }
  ],
  "metadata": {
    "accelerator": "GPU",
    "colab": {
      "collapsed_sections": [],
      "name": "CIFAR-10_uDNN_Capuchin.ipynb",
      "provenance": []
    },
    "kernelspec": {
      "display_name": "Python 3 (ipykernel)",
      "language": "python",
      "name": "python3"
    },
    "language_info": {
      "codemirror_mode": {
        "name": "ipython",
        "version": 3
      },
      "file_extension": ".py",
      "mimetype": "text/x-python",
      "name": "python",
      "nbconvert_exporter": "python",
      "pygments_lexer": "ipython3",
      "version": "3.9.6"
    }
  },
  "nbformat": 4,
  "nbformat_minor": 0
}