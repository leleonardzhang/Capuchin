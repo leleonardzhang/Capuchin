{
  "nbformat": 4,
  "nbformat_minor": 0,
  "metadata": {
    "accelerator": "GPU",
    "colab": {
      "name": "MNIST-uDNN.ipynb",
      "provenance": [],
      "collapsed_sections": []
    },
    "kernelspec": {
      "display_name": "Python 3",
      "name": "python3"
    },
    "language_info": {
      "name": "python"
    }
  },
  "cells": [
    {
      "cell_type": "markdown",
      "metadata": {
        "id": "7R0v5xg8DpmA"
      },
      "source": [
        "# MNIST uDNN Model Pre-training\n",
        "Credit: this notebook is based on Keras official documents https://keras.io/examples/vision/mnist_convnet/\n",
        "\n",
        "[![Open In Colab](https://colab.research.google.com/assets/colab-badge.svg)](https://colab.research.google.com/drive/1-Bn1Z7XItLokDJanKX9I3KlBWWjXI-RE?usp=sharing)"
      ]
    },
    {
      "cell_type": "code",
      "metadata": {
        "id": "xYboMSXKDODI"
      },
      "source": [
        "import numpy as np\n",
        "from tensorflow import keras\n",
        "from tensorflow.keras import layers\n",
        "import tensorflow as tf\n",
        "import matplotlib.pyplot as plt"
      ],
      "execution_count": 20,
      "outputs": []
    },
    {
      "cell_type": "markdown",
      "metadata": {
        "id": "3-a9SlBrY5_Y"
      },
      "source": [
        "## Use Google Colab Pro GPU (Optional)"
      ]
    },
    {
      "cell_type": "code",
      "metadata": {
        "colab": {
          "base_uri": "https://localhost:8080/"
        },
        "id": "D8hZRseyJpke",
        "outputId": "344e5280-3848-4c6e-9b6a-097cac0a36d4"
      },
      "source": [
        "device_name = tf.test.gpu_device_name()\n",
        "if device_name != '/device:GPU:0':\n",
        "  raise SystemError('GPU device not found')\n",
        "print('Found GPU at: {}'.format(device_name))"
      ],
      "execution_count": 21,
      "outputs": [
        {
          "output_type": "stream",
          "name": "stdout",
          "text": [
            "Found GPU at: /device:GPU:0\n"
          ]
        }
      ]
    },
    {
      "cell_type": "markdown",
      "metadata": {
        "id": "F0yPaMLpEqKg"
      },
      "source": [
        "## Import MNIST Dataset"
      ]
    },
    {
      "cell_type": "code",
      "metadata": {
        "id": "7HT5LbdREwKs",
        "colab": {
          "base_uri": "https://localhost:8080/"
        },
        "outputId": "85e77457-2bac-443a-f690-40be97c4d1bc"
      },
      "source": [
        "# Model / data parameters\n",
        "num_classes = 10\n",
        "input_shape = (28, 28, 1)\n",
        "\n",
        "# the data, split between train and test sets\n",
        "(trainX, trainY), (testX, testY) = keras.datasets.mnist.load_data()\n",
        "\n",
        "# Scale images to the [0, 1] range\n",
        "trainX = trainX.astype(\"float32\") / 255\n",
        "testX = testX.astype(\"float32\") / 255\n",
        "# Make sure images have shape (28, 28, 1)\n",
        "trainX = np.expand_dims(trainX, -1)\n",
        "testX = np.expand_dims(testX, -1)\n",
        "print(\"trainX shape:\", trainX.shape)\n",
        "print(trainX.shape[0], \"train samples\")\n",
        "print(testX.shape[0], \"test samples\")\n",
        "\n",
        "\n",
        "# convert class vectors to binary class matrices\n",
        "trainY = keras.utils.to_categorical(trainY, num_classes)\n",
        "testY = keras.utils.to_categorical(testY, num_classes)"
      ],
      "execution_count": 22,
      "outputs": [
        {
          "output_type": "stream",
          "name": "stdout",
          "text": [
            "trainX shape: (60000, 28, 28, 1)\n",
            "60000 train samples\n",
            "10000 test samples\n"
          ]
        }
      ]
    },
    {
      "cell_type": "markdown",
      "metadata": {
        "id": "LhnIkXysHNwt"
      },
      "source": [
        "## Define uDNN Model"
      ]
    },
    {
      "cell_type": "code",
      "metadata": {
        "colab": {
          "base_uri": "https://localhost:8080/"
        },
        "id": "r7n0AmloG_y6",
        "outputId": "24caec81-7a5c-4eb4-d019-176ced1e47d1"
      },
      "source": [
        "model = keras.Sequential([\n",
        "        keras.Input(shape=input_shape),\n",
        "        layers.Conv2D(16, kernel_size=(3,3), activation=\"relu\"),\n",
        "        layers.MaxPooling2D(pool_size=(2,2)),\n",
        "        layers.Conv2D(32, kernel_size=(3,3), activation=\"relu\"),\n",
        "        layers.MaxPooling2D(pool_size=(2,2)),\n",
        "        layers.Flatten(),\n",
        "        layers.Dropout(0.5),\n",
        "        layers.Dense(num_classes, activation=\"softmax\"),\n",
        "])\n",
        "\n",
        "model.summary()"
      ],
      "execution_count": 23,
      "outputs": [
        {
          "output_type": "stream",
          "name": "stdout",
          "text": [
            "Model: \"sequential_2\"\n",
            "_________________________________________________________________\n",
            "Layer (type)                 Output Shape              Param #   \n",
            "=================================================================\n",
            "conv2d_4 (Conv2D)            (None, 26, 26, 16)        160       \n",
            "_________________________________________________________________\n",
            "max_pooling2d_4 (MaxPooling2 (None, 13, 13, 16)        0         \n",
            "_________________________________________________________________\n",
            "conv2d_5 (Conv2D)            (None, 11, 11, 32)        4640      \n",
            "_________________________________________________________________\n",
            "max_pooling2d_5 (MaxPooling2 (None, 5, 5, 32)          0         \n",
            "_________________________________________________________________\n",
            "flatten_2 (Flatten)          (None, 800)               0         \n",
            "_________________________________________________________________\n",
            "dropout_2 (Dropout)          (None, 800)               0         \n",
            "_________________________________________________________________\n",
            "dense_2 (Dense)              (None, 10)                8010      \n",
            "=================================================================\n",
            "Total params: 12,810\n",
            "Trainable params: 12,810\n",
            "Non-trainable params: 0\n",
            "_________________________________________________________________\n"
          ]
        }
      ]
    },
    {
      "cell_type": "markdown",
      "metadata": {
        "id": "lZ3HmpB1IlpT"
      },
      "source": [
        "## Compile and Train Model"
      ]
    },
    {
      "cell_type": "code",
      "metadata": {
        "id": "SUnap6yLIj3P"
      },
      "source": [
        "model.compile(loss=\"categorical_crossentropy\", optimizer=\"adam\", metrics=[\"accuracy\"])"
      ],
      "execution_count": 24,
      "outputs": []
    },
    {
      "cell_type": "code",
      "metadata": {
        "colab": {
          "base_uri": "https://localhost:8080/"
        },
        "id": "5MKhCQqGIsZF",
        "outputId": "d6ca4917-c600-49aa-8654-ae318cec93ed"
      },
      "source": [
        "model.fit(trainX, trainY, epochs=15, batch_size=128, validation_split=0.1)"
      ],
      "execution_count": 25,
      "outputs": [
        {
          "output_type": "stream",
          "name": "stdout",
          "text": [
            "Epoch 1/15\n",
            "422/422 [==============================] - 2s 5ms/step - loss: 0.5084 - accuracy: 0.8396 - val_loss: 0.1133 - val_accuracy: 0.9695\n",
            "Epoch 2/15\n",
            "422/422 [==============================] - 2s 4ms/step - loss: 0.1691 - accuracy: 0.9494 - val_loss: 0.0736 - val_accuracy: 0.9790\n",
            "Epoch 3/15\n",
            "422/422 [==============================] - 2s 4ms/step - loss: 0.1277 - accuracy: 0.9610 - val_loss: 0.0636 - val_accuracy: 0.9835\n",
            "Epoch 4/15\n",
            "422/422 [==============================] - 2s 4ms/step - loss: 0.1067 - accuracy: 0.9679 - val_loss: 0.0542 - val_accuracy: 0.9870\n",
            "Epoch 5/15\n",
            "422/422 [==============================] - 2s 4ms/step - loss: 0.0965 - accuracy: 0.9707 - val_loss: 0.0475 - val_accuracy: 0.9867\n",
            "Epoch 6/15\n",
            "422/422 [==============================] - 2s 4ms/step - loss: 0.0867 - accuracy: 0.9736 - val_loss: 0.0426 - val_accuracy: 0.9885\n",
            "Epoch 7/15\n",
            "422/422 [==============================] - 2s 4ms/step - loss: 0.0810 - accuracy: 0.9749 - val_loss: 0.0423 - val_accuracy: 0.9888\n",
            "Epoch 8/15\n",
            "422/422 [==============================] - 2s 4ms/step - loss: 0.0754 - accuracy: 0.9761 - val_loss: 0.0400 - val_accuracy: 0.9895\n",
            "Epoch 9/15\n",
            "422/422 [==============================] - 2s 4ms/step - loss: 0.0726 - accuracy: 0.9773 - val_loss: 0.0396 - val_accuracy: 0.9885\n",
            "Epoch 10/15\n",
            "422/422 [==============================] - 2s 4ms/step - loss: 0.0686 - accuracy: 0.9791 - val_loss: 0.0389 - val_accuracy: 0.9888\n",
            "Epoch 11/15\n",
            "422/422 [==============================] - 2s 4ms/step - loss: 0.0674 - accuracy: 0.9792 - val_loss: 0.0369 - val_accuracy: 0.9905\n",
            "Epoch 12/15\n",
            "422/422 [==============================] - 2s 4ms/step - loss: 0.0650 - accuracy: 0.9794 - val_loss: 0.0370 - val_accuracy: 0.9897\n",
            "Epoch 13/15\n",
            "422/422 [==============================] - 2s 4ms/step - loss: 0.0622 - accuracy: 0.9799 - val_loss: 0.0364 - val_accuracy: 0.9898\n",
            "Epoch 14/15\n",
            "422/422 [==============================] - 2s 5ms/step - loss: 0.0613 - accuracy: 0.9805 - val_loss: 0.0337 - val_accuracy: 0.9912\n",
            "Epoch 15/15\n",
            "422/422 [==============================] - 2s 4ms/step - loss: 0.0576 - accuracy: 0.9819 - val_loss: 0.0348 - val_accuracy: 0.9907\n"
          ]
        },
        {
          "output_type": "execute_result",
          "data": {
            "text/plain": [
              "<keras.callbacks.History at 0x7fbea80400d0>"
            ]
          },
          "metadata": {},
          "execution_count": 25
        }
      ]
    },
    {
      "cell_type": "code",
      "metadata": {
        "colab": {
          "base_uri": "https://localhost:8080/"
        },
        "id": "hY4PhZZTKAv1",
        "outputId": "b8726cea-5bc9-41a8-80d4-e946771ef100"
      },
      "source": [
        "model.evaluate(testX, testY)"
      ],
      "execution_count": 26,
      "outputs": [
        {
          "output_type": "stream",
          "name": "stdout",
          "text": [
            "313/313 [==============================] - 1s 2ms/step - loss: 0.0305 - accuracy: 0.9901\n"
          ]
        },
        {
          "output_type": "execute_result",
          "data": {
            "text/plain": [
              "[0.030508821830153465, 0.9901000261306763]"
            ]
          },
          "metadata": {},
          "execution_count": 26
        }
      ]
    },
    {
      "cell_type": "markdown",
      "metadata": {
        "id": "jc2CWvA5Xhct"
      },
      "source": [
        "## Prepare to Export Model"
      ]
    },
    {
      "cell_type": "code",
      "metadata": {
        "colab": {
          "base_uri": "https://localhost:8080/"
        },
        "id": "hg7P5TkKXghT",
        "outputId": "8cf8d2d8-9d77-4a55-a8b4-571285f833d1"
      },
      "source": [
        "! git clone https://github.com/leleonardzhang/uDNN-tf2msp.git\n",
        "! pip install fxpmath\n",
        "import sys\n",
        "from fxpmath import Fxp\n",
        "sys.path.insert(0, '/content/uDNN-tf2msp')\n",
        "import encoder"
      ],
      "execution_count": 27,
      "outputs": [
        {
          "output_type": "stream",
          "name": "stdout",
          "text": [
            "fatal: destination path 'uDNN-tf2msp' already exists and is not an empty directory.\n",
            "Requirement already satisfied: fxpmath in /usr/local/lib/python3.7/dist-packages (0.4.3)\n",
            "Requirement already satisfied: numpy in /usr/local/lib/python3.7/dist-packages (from fxpmath) (1.19.5)\n"
          ]
        }
      ]
    },
    {
      "cell_type": "markdown",
      "metadata": {
        "id": "WfwzFZMPYiA_"
      },
      "source": [
        "## Export Model to Header File"
      ]
    },
    {
      "cell_type": "code",
      "metadata": {
        "id": "MTopTRqHYlRP"
      },
      "source": [
        "encoder.export_model(model)"
      ],
      "execution_count": 28,
      "outputs": []
    },
    {
      "cell_type": "markdown",
      "metadata": {
        "id": "tZ-JH2EnYrgF"
      },
      "source": [
        "## Get Sample Input and Output (Optional)"
      ]
    },
    {
      "cell_type": "code",
      "metadata": {
        "colab": {
          "base_uri": "https://localhost:8080/"
        },
        "id": "_j2E85exYqVD",
        "outputId": "9b3f9640-36b6-452c-cc5c-f594922b5a58"
      },
      "source": [
        "test_n = 1      # the nth data in test dataset\n",
        "print(\"Fixed Point Input\")\n",
        "print(Fxp(testX[test_n].transpose(2,0,1), signed = True, n_word = 16, n_frac = 10).val.flatten().tolist())\n",
        "print(\"Output Label\")\n",
        "print(np.argmax(testY[test_n]))"
      ],
      "execution_count": 29,
      "outputs": [
        {
          "output_type": "stream",
          "name": "stdout",
          "text": [
            "Fixed Point Input\n",
            "[0, 0, 0, 0, 0, 0, 0, 0, 0, 0, 0, 0, 0, 0, 0, 0, 0, 0, 0, 0, 0, 0, 0, 0, 0, 0, 0, 0, 0, 0, 0, 0, 0, 0, 0, 0, 0, 0, 0, 0, 0, 0, 0, 0, 0, 0, 0, 0, 0, 0, 0, 0, 0, 0, 0, 0, 0, 0, 0, 0, 0, 0, 0, 0, 0, 0, 0, 0, 0, 0, 0, 0, 0, 0, 0, 0, 0, 0, 0, 0, 0, 0, 0, 0, 0, 0, 0, 0, 0, 0, 0, 0, 0, 0, 465, 501, 686, 1024, 1024, 602, 373, 0, 0, 0, 0, 0, 0, 0, 0, 0, 0, 0, 0, 0, 0, 0, 0, 0, 0, 0, 0, 678, 1015, 1015, 1015, 1015, 1015, 1015, 875, 120, 0, 0, 0, 0, 0, 0, 0, 0, 0, 0, 0, 0, 0, 0, 0, 0, 0, 0, 678, 1015, 1015, 1015, 855, 570, 706, 1015, 1015, 489, 0, 0, 0, 0, 0, 0, 0, 0, 0, 0, 0, 0, 0, 0, 0, 0, 0, 208, 1003, 1015, 843, 128, 48, 0, 24, 827, 1015, 562, 0, 0, 0, 0, 0, 0, 0, 0, 0, 0, 0, 0, 0, 0, 0, 0, 0, 309, 1007, 843, 100, 0, 0, 0, 489, 995, 1015, 261, 0, 0, 0, 0, 0, 0, 0, 0, 0, 0, 0, 0, 0, 0, 0, 0, 0, 0, 124, 72, 0, 0, 0, 0, 839, 1015, 1015, 261, 0, 0, 0, 0, 0, 0, 0, 0, 0, 0, 0, 0, 0, 0, 0, 0, 0, 0, 0, 0, 0, 0, 0, 469, 991, 1015, 795, 40, 0, 0, 0, 0, 0, 0, 0, 0, 0, 0, 0, 0, 0, 0, 0, 0, 0, 0, 0, 0, 0, 0, 305, 991, 1015, 927, 252, 0, 0, 0, 0, 0, 0, 0, 0, 0, 0, 0, 0, 0, 0, 0, 0, 0, 0, 0, 0, 0, 0, 0, 514, 1015, 1015, 578, 0, 0, 0, 0, 0, 0, 0, 0, 0, 0, 0, 0, 0, 0, 0, 0, 0, 0, 0, 0, 0, 0, 0, 706, 987, 1015, 638, 48, 0, 0, 0, 0, 0, 0, 0, 0, 0, 0, 0, 0, 0, 0, 0, 0, 0, 0, 0, 0, 0, 0, 100, 939, 1015, 935, 140, 0, 0, 0, 0, 0, 0, 0, 0, 0, 0, 0, 0, 0, 0, 0, 0, 0, 0, 0, 0, 0, 0, 0, 795, 1015, 1015, 566, 0, 0, 0, 0, 0, 0, 0, 0, 0, 0, 0, 0, 0, 0, 0, 0, 0, 0, 0, 0, 0, 0, 0, 313, 995, 1015, 758, 48, 0, 0, 0, 0, 0, 0, 0, 0, 0, 0, 0, 0, 0, 0, 0, 0, 0, 0, 0, 0, 0, 0, 76, 803, 1015, 1015, 566, 0, 0, 0, 0, 0, 0, 0, 0, 0, 0, 0, 0, 0, 0, 0, 0, 0, 0, 0, 0, 0, 0, 0, 538, 1015, 1015, 694, 48, 0, 0, 0, 0, 0, 0, 0, 0, 0, 0, 0, 0, 0, 0, 0, 0, 0, 0, 0, 0, 0, 0, 0, 995, 1015, 1015, 100, 0, 0, 0, 0, 0, 0, 0, 0, 0, 0, 0, 0, 0, 0, 0, 0, 0, 0, 0, 0, 0, 0, 0, 0, 995, 1015, 1015, 172, 80, 80, 80, 80, 20, 0, 20, 80, 80, 148, 602, 602, 602, 590, 40, 0, 0, 0, 0, 0, 0, 0, 0, 0, 995, 1015, 1015, 1015, 1015, 1015, 1015, 1015, 674, 574, 666, 1015, 1015, 1015, 1015, 1015, 1015, 1015, 493, 0, 0, 0, 0, 0, 0, 0, 0, 0, 698, 1015, 1015, 1015, 1015, 1015, 1015, 1015, 1015, 1015, 1015, 1015, 999, 991, 991, 678, 469, 469, 228, 0, 0, 0, 0, 0, 0, 0, 0, 0, 0, 473, 493, 493, 493, 666, 1015, 1015, 1015, 622, 493, 493, 164, 0, 0, 0, 0, 0, 0, 0, 0, 0, 0, 0, 0, 0, 0, 0, 0, 0, 0, 0, 0, 0, 0, 0, 0, 0, 0, 0, 0, 0, 0, 0, 0, 0, 0, 0, 0, 0, 0, 0, 0, 0, 0, 0, 0, 0, 0, 0, 0, 0, 0, 0, 0, 0, 0, 0, 0, 0, 0, 0, 0, 0, 0, 0, 0, 0, 0, 0, 0, 0, 0, 0, 0, 0, 0, 0, 0, 0, 0, 0, 0, 0, 0, 0, 0, 0, 0, 0, 0, 0, 0, 0, 0, 0, 0, 0, 0, 0, 0, 0, 0, 0, 0, 0, 0, 0, 0, 0, 0, 0, 0, 0, 0, 0, 0, 0, 0, 0, 0, 0, 0, 0, 0, 0, 0, 0, 0, 0, 0, 0, 0, 0, 0, 0, 0, 0, 0, 0, 0, 0, 0, 0, 0, 0, 0, 0, 0, 0]\n",
            "Output Label\n",
            "2\n"
          ]
        }
      ]
    },
    {
      "cell_type": "markdown",
      "metadata": {
        "id": "4rFkld72aYgh"
      },
      "source": [
        "## Next Step"
      ]
    },
    {
      "cell_type": "markdown",
      "metadata": {
        "id": "caG_TeRoaebW"
      },
      "source": [
        "1.   Download header file `neural_network_parameters.h` and copy the header file into the root directory of MSP implementation `uDNN-tf2msp-msp_impl/`.\n",
        "2.   Modify the pointer `input_buffer` in `neural_network_parameters.h` and point to desired data input.\n",
        "3.   Compile and run the program on MSP.\n"
      ]
    }
  ]
}