{
  "cells": [
    {
      "cell_type": "markdown",
      "metadata": {
        "id": "7R0v5xg8DpmA"
      },
      "source": [
        "# MNIST uDNN Model Pre-training + Capuchin\n",
        "Credit: this notebook is based on Keras official documents https://keras.io/examples/vision/mnist_convnet/\n",
        "\n",
        "[![Open In Colab](https://colab.research.google.com/assets/colab-badge.svg)](https://colab.research.google.com/drive/1-Bn1Z7XItLokDJanKX9I3KlBWWjXI-RE?usp=sharing)"
      ]
    },
    {
      "cell_type": "code",
      "execution_count": null,
      "metadata": {
        "id": "xYboMSXKDODI"
      },
      "outputs": [],
      "source": [
        "import numpy as np\n",
        "from tensorflow import keras\n",
        "from tensorflow.keras import layers\n",
        "import tensorflow as tf\n",
        "import matplotlib.pyplot as plt"
      ]
    },
    {
      "cell_type": "markdown",
      "metadata": {
        "id": "3-a9SlBrY5_Y"
      },
      "source": [
        "## Use Google Colab Pro GPU (Optional)"
      ]
    },
    {
      "cell_type": "code",
      "execution_count": null,
      "metadata": {
        "id": "D8hZRseyJpke"
      },
      "outputs": [],
      "source": [
        "device_name = tf.test.gpu_device_name()\n",
        "if device_name != '/device:GPU:0':\n",
        "  raise SystemError('GPU device not found')\n",
        "print('Found GPU at: {}'.format(device_name))"
      ]
    },
    {
      "cell_type": "markdown",
      "metadata": {
        "id": "F0yPaMLpEqKg"
      },
      "source": [
        "## Import MNIST Dataset"
      ]
    },
    {
      "cell_type": "code",
      "execution_count": null,
      "metadata": {
        "id": "7HT5LbdREwKs"
      },
      "outputs": [],
      "source": [
        "# Model / data parameters\n",
        "num_classes = 10\n",
        "input_shape = (28, 28, 1)\n",
        "\n",
        "# the data, split between train and test sets\n",
        "(trainX, trainY), (testX, testY) = keras.datasets.mnist.load_data()\n",
        "\n",
        "# Scale images to the [0, 1] range\n",
        "trainX = trainX.astype(\"float32\") / 255\n",
        "testX = testX.astype(\"float32\") / 255\n",
        "# Make sure images have shape (28, 28, 1)\n",
        "trainX = np.expand_dims(trainX, -1)\n",
        "testX = np.expand_dims(testX, -1)\n",
        "print(\"trainX shape:\", trainX.shape)\n",
        "print(trainX.shape[0], \"train samples\")\n",
        "print(testX.shape[0], \"test samples\")\n",
        "\n",
        "\n",
        "# convert class vectors to binary class matrices\n",
        "trainY = keras.utils.to_categorical(trainY, num_classes)\n",
        "testY = keras.utils.to_categorical(testY, num_classes)"
      ]
    },
    {
      "cell_type": "markdown",
      "metadata": {
        "id": "LhnIkXysHNwt"
      },
      "source": [
        "## Define uDNN Model"
      ]
    },
    {
      "cell_type": "code",
      "execution_count": null,
      "metadata": {
        "id": "r7n0AmloG_y6"
      },
      "outputs": [],
      "source": [
        "model = keras.Sequential([\n",
        "        keras.Input(shape=input_shape),\n",
        "        layers.Conv2D(16, kernel_size=(3,3), activation=\"relu\"),\n",
        "        layers.MaxPooling2D(pool_size=(2,2)),\n",
        "        layers.Conv2D(32, kernel_size=(3,3), activation=\"relu\"),\n",
        "        layers.MaxPooling2D(pool_size=(2,2)),\n",
        "        layers.Flatten(),\n",
        "        layers.Dropout(0.5),\n",
        "        layers.Dense(num_classes, activation=\"softmax\"),\n",
        "])\n",
        "\n",
        "model.summary()"
      ]
    },
    {
      "cell_type": "markdown",
      "metadata": {
        "id": "lZ3HmpB1IlpT"
      },
      "source": [
        "## Compile and Train Model"
      ]
    },
    {
      "cell_type": "code",
      "execution_count": null,
      "metadata": {
        "id": "SUnap6yLIj3P"
      },
      "outputs": [],
      "source": [
        "model.compile(loss=\"categorical_crossentropy\", optimizer=\"adam\", metrics=[\"accuracy\"])"
      ]
    },
    {
      "cell_type": "code",
      "execution_count": null,
      "metadata": {
        "id": "5MKhCQqGIsZF"
      },
      "outputs": [],
      "source": [
        "model.fit(trainX, trainY, epochs=15, batch_size=128, validation_split=0.1)"
      ]
    },
    {
      "cell_type": "code",
      "execution_count": null,
      "metadata": {
        "id": "hY4PhZZTKAv1"
      },
      "outputs": [],
      "source": [
        "model.evaluate(testX, testY)"
      ]
    },
    {
      "cell_type": "markdown",
      "metadata": {
        "id": "jc2CWvA5Xhct"
      },
      "source": [
        "## Prepare to Export Model"
      ]
    },
    {
      "cell_type": "code",
      "execution_count": null,
      "metadata": {
        "id": "hg7P5TkKXghT"
      },
      "outputs": [],
      "source": [
        "! git clone https://github.com/leleonardzhang/Capuchin.git\n",
        "! pip install fxpmath\n",
        "import sys\n",
        "from fxpmath import Fxp\n",
        "sys.path.insert(0, '/content/Capuchin')\n",
        "import encoder"
      ]
    },
    {
      "cell_type": "markdown",
      "metadata": {
        "id": "WfwzFZMPYiA_"
      },
      "source": [
        "## Export Model to Header File"
      ]
    },
    {
      "cell_type": "code",
      "execution_count": null,
      "metadata": {
        "id": "MTopTRqHYlRP"
      },
      "outputs": [],
      "source": [
        "encoder.export_model(model)"
      ]
    },
    {
      "cell_type": "markdown",
      "metadata": {
        "id": "tZ-JH2EnYrgF"
      },
      "source": [
        "## Get Sample Input and Output (Optional)"
      ]
    },
    {
      "cell_type": "code",
      "execution_count": null,
      "metadata": {
        "id": "_j2E85exYqVD"
      },
      "outputs": [],
      "source": [
        "test_n = 1      # the nth data in test dataset\n",
        "print(\"Fixed Point Input\")\n",
        "print(Fxp(testX[test_n].transpose(2,0,1), signed = True, n_word = 16, n_frac = 10).val.flatten().tolist())\n",
        "print(\"Output Label\")\n",
        "print(np.argmax(testY[test_n]))"
      ]
    },
    {
      "cell_type": "markdown",
      "metadata": {
        "id": "4rFkld72aYgh"
      },
      "source": [
        "## Next Step"
      ]
    },
    {
      "cell_type": "markdown",
      "metadata": {
        "id": "caG_TeRoaebW"
      },
      "source": [
        "1.   Download header file `neural_network_parameters.h` and copy the header file into the root directory of MSP implementation `Capuchin-MCU/`.\n",
        "2.   Modify the pointer `input_buffer` in `neural_network_parameters.h` and point to desired data input.\n",
        "3.   Compile and run the program on MSP.\n"
      ]
    },
    {
      "cell_type": "code",
      "execution_count": null,
      "metadata": {
        "id": "tDICdcXUOlN6"
      },
      "outputs": [],
      "source": [
        ""
      ]
    }
  ],
  "metadata": {
    "accelerator": "GPU",
    "colab": {
      "collapsed_sections": [],
      "name": "MNIST_uDNN_Capuchin.ipynb",
      "provenance": []
    },
    "kernelspec": {
      "display_name": "Python 3 (ipykernel)",
      "language": "python",
      "name": "python3"
    },
    "language_info": {
      "codemirror_mode": {
        "name": "ipython",
        "version": 3
      },
      "file_extension": ".py",
      "mimetype": "text/x-python",
      "name": "python",
      "nbconvert_exporter": "python",
      "pygments_lexer": "ipython3",
      "version": "3.9.6"
    }
  },
  "nbformat": 4,
  "nbformat_minor": 0
}